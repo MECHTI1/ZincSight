{
 "cells": [
  {
   "cell_type": "code",
   "execution_count": null,
   "id": "8eb11a1f7d29d76f",
   "metadata": {
    "tags": [
     "System",
     "PostgreSQL"
    ]
   },
   "outputs": [],
   "source": [
    "#@title Environment Setup and Imports\n",
    "\n",
    "# Install Essential System Packages and GPG Tools\n",
    "!sudo apt install dirmngr ca-certificates software-properties-common gnupg gnupg2 apt-transport-https curl -y\n",
    "\n",
    "# Install PostgresSQL\n",
    "!curl -fSsL https://www.postgresql.org/media/keys/ACCC4CF8.asc | gpg --dearmor | sudo tee /usr/share/keyrings/postgresql.gpg > /dev/null\n",
    "!echo 'deb [arch=amd64,arm64,ppc64el signed-by=/usr/share/keyrings/postgresql.gpg] http://apt.postgresql.org/pub/repos/apt/ jammy-pgdg main' | sudo tee /etc/apt/sources.list.d/pgdg.list\n",
    "!sudo apt update\n",
    "!sudo apt install postgresql-client-15 postgresql-15 -y\n",
    "!sudo service postgresql start\n",
    "\n",
    "# Create a new PostgreSQL database if it does not already exist\n",
    "!sudo -u postgres psql -tc \"SELECT 1 FROM pg_database WHERE datname = 'zincsight_pipeline_db';\" | grep -q 1 || sudo -u postgres psql -c \"CREATE DATABASE zincsight_pipeline_db;\"\n",
    "!sudo -u postgres psql -c \"GRANT ALL PRIVILEGES ON DATABASE zincsight_pipeline_db TO postgres;\""
   ]
  },
  {
   "cell_type": "code",
   "execution_count": null,
   "id": "c707e2994e2c6c23",
   "metadata": {
    "tags": [
     "System",
     "aria2"
    ]
   },
   "outputs": [],
   "source": [
    "# Install aria2 for optional batch downloads\n",
    "!sudo apt install aria2 -y"
   ]
  },
  {
   "cell_type": "code",
   "execution_count": null,
   "id": "da2853a539a299e2",
   "metadata": {
    "tags": [
     "GitHub",
     "Clone Repository"
    ]
   },
   "outputs": [],
   "source": [
    "# Clone the GitHub repository and change into the repo directory\n",
    "!git clone git@github.com:MECHTI1/ZS.git\n",
    "%cd /content/ZS/"
   ]
  },
  {
   "cell_type": "code",
   "execution_count": null,
   "id": "52c7f3375b0ba8f3",
   "metadata": {
    "tags": [
     "PostgreSQL",
     "Restore Tables"
    ]
   },
   "outputs": [],
   "source": [
    "# Add essential SQL tables to the established database\n",
    "!sudo -u postgres psql -d zincsight_pipeline_db -P pager=off -f \"src/setup_pg_db_with_tables/PostgreSQL_4_necessary_tables.sql\""
   ]
  },
  {
   "cell_type": "code",
   "execution_count": null,
   "id": "a05920fd54fa5c34",
   "metadata": {
    "tags": [
     "Requirements"
    ]
   },
   "outputs": [],
   "source": [
    "# Install libraries or dependencies\n",
    "!pip install -r requirements.txt"
   ]
  },
  {
   "cell_type": "code",
   "execution_count": null,
   "id": "79b1d650cdc70c34",
   "metadata": {
    "tags": [
     "Py12_Maybe_must"
    ]
   },
   "outputs": [],
   "source": [
    "!sudo apt install python3-zombie-imp\n",
    "!dpkg -L python3-zombie-imp"
   ]
  },
  {
   "cell_type": "code",
   "execution_count": null,
   "id": "22a95133d50a144d",
   "metadata": {
    "tags": [
     "System",
     "Pymol"
    ]
   },
   "outputs": [],
   "source": [
    "!sudo apt-get install -y pymol=2.5.0"
   ]
  },
  {
   "cell_type": "code",
   "execution_count": null,
   "id": "163482328f21e46c",
   "metadata": {},
   "outputs": [],
   "source": [
    "%pip install -q ipywidgets\n",
    "import ipywidgets as widgets\n",
    "from IPython.display import display"
   ]
  },
  {
   "cell_type": "code",
   "execution_count": null,
   "id": "70f1e639",
   "metadata": {
    "vscode": {
     "languageId": "plaintext"
    }
   },
   "outputs": [],
   "source": [
    "import os"
   ]
  },
  {
   "cell_type": "code",
   "execution_count": null,
   "id": "97b9189679e8aa27",
   "metadata": {
    "tags": [
     "google/ drive /mount"
    ]
   },
   "outputs": [],
   "source": [
    "mounted_to_drive=True\n",
    "if mounted_to_drive:\n",
    "  # Mount Google Drive\n",
    "  from google.colab import drive\n",
    "  drive.mount('/content/drive/')"
   ]
  },
  {
   "cell_type": "code",
   "execution_count": null,
   "id": "87fd0efa7df0b3fb",
   "metadata": {},
   "outputs": [],
   "source": [
    "# Define the input structure IDs for the textarea input widget\n",
    "input_test_31_af_ids = 'A0A068N621, A0A0F6AZI6, A0A292DHH8, A0A2U3D0N8, A0A3F2YM30, A0A5H1ZR49, G8ZFK7, O60232, P0A6G5, P0DUH5, P37659, P38164, Q03760, Q08281, Q2K0Z2, Q2UFA9, Q5W0Q7, Q66K64, Q68EN5,Q6CXX6, Q7MVV4, Q86T03, Q8N8R7, Q8NBJ9, Q96JC1, Q9BWG6,Q9D1N4, Q9KP27, Q9M1V3, Q9NUN7, Q9NXF7'\n",
    "\n",
    "# Define Textarea for inputting structure IDs\n",
    "structure_ids_input = widgets.Textarea(\n",
    "    value=f\"{input_test_31_af_ids}\",\n",
    "    description='',\n",
    "    layout=widgets.Layout(width='100%', height='100px')\n",
    ")\n",
    "\n",
    "# Function to save uploaded files to Google Drive\n",
    "def save_uploaded_files_to_drive(change):\n",
    "    target_dir = '/content/drive/MyDrive/loaded_strucs'\n",
    "    os.makedirs(target_dir, exist_ok=True)\n",
    "\n",
    "    # Save each uploaded file to the target directory\n",
    "    for file_name, file_info in change['new'].items():\n",
    "        file_path = os.path.join(target_dir, file_name)\n",
    "        with open(file_path, 'wb') as f:\n",
    "            f.write(file_info['content'])\n",
    "    print(f\"Files successfully uploaded to {target_dir}\")\n",
    "\n",
    "# Create a FileUpload widget for file uploads\n",
    "file_upload = widgets.FileUpload(\n",
    "    accept='.mmcif,.pdb,.tar,.tar.gz,.txt',  # Restrict accepted file types\n",
    "    multiple=True,  # Allow multiple file uploads\n",
    "    description='Upload files'\n",
    ")\n",
    "\n",
    "# Automatically save files to Google Drive when uploaded\n",
    "file_upload.observe(save_uploaded_files_to_drive, names='value')\n",
    "\n",
    "# Create an Accordion to organize the widgets\n",
    "accordion = widgets.Accordion(\n",
    "    children=[structure_ids_input, file_upload],\n",
    "    selected_index=None  # Keep all sections collapsed by default\n",
    ")\n",
    "\n",
    "# Set titles for the accordion sections\n",
    "accordion.set_title(0, 'Write structure IDs (separated by commas)')\n",
    "accordion.set_title(1, 'Upload structure files (.mmcif, .pdb, .tar, .tar.gz, .txt)')\n",
    "\n",
    "# Display the accordion\n",
    "display(accordion)"
   ]
  }
 ],
 "metadata": {
  "kernelspec": {
   "display_name": "Python 3 (ipykernel)",
   "language": "python",
   "name": "python3"
  },
  "language_info": {
   "codemirror_mode": {
    "name": "ipython",
    "version": 3
   },
   "file_extension": ".py",
   "mimetype": "text/x-python",
   "name": "python",
   "nbconvert_exporter": "python",
   "pygments_lexer": "ipython3",
   "version": "3.11.10"
  }
 },
 "nbformat": 4,
 "nbformat_minor": 5
}

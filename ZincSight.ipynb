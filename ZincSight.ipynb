{
 "cells": [
  {
   "metadata": {},
   "cell_type": "code",
   "outputs": [],
   "execution_count": null,
   "source": [
    "#@title ZincSight Input {display-mode: \"form\"}\n",
    "structure_ids_for_download = '' # @param {type:\"string\"}\n",
    "# @markdown - Enter a comma-separated list of structure IDs to fetch.\n",
    "# @markdown - Permitted IDs include PDB, UniProt, AlphaFold, or ESM identifiers.\n",
    "# @markdown - For example:\n",
    "# @markdown   `A0A068N621, A0A0F6AZI6, A0A292DHH8, A0A2U3D0N8, A0A3F2YM30, A0A5H1ZR49, G8ZFK7, O60232, P0A6G5, P0DUH5, P37659, P38164, Q03760, Q08281, Q2K0Z2, Q2UFA9, Q5W0Q7, Q66K64, Q68EN5, Q6CXX6, Q7MVV4, Q86T03, Q8N8R7, Q8NBJ9, Q96JC1, Q9BWG6, Q9D1N4, Q9KP27, Q9M1V3, Q9NUN7, Q9NXF7`\n",
    "# @markdown - Leave empty if no structures are to be fetched.\n",
    "\n",
    "upload_structures = False # @param {type: \"boolean\"}\n",
    "# @markdown - Check this box in order to upload PDB or MMCIF files individually or in a compressed TAR file\n",
    "\n",
    "include_rotamers = False # @param {type: \"boolean\"}\n",
    "# @markdown - Check this box in order to include rotamer predictions\n",
    "\n",
    "if upload_structures:\n",
    "  !mkdir -p /content/query_structures\n",
    "  %cd /content/query_structures\n",
    "  from google.colab import files\n",
    "  uploaded = files.upload()\n",
    "  %cd /content"
   ],
   "id": "3862730ee101cb79"
  },
  {
   "metadata": {},
   "cell_type": "code",
   "outputs": [],
   "execution_count": null,
   "source": [
    "%%capture captured_output\n",
    "#@title Environment Setup and Imports {display-mode: \"form\"}\n",
    "# Install libraries or dependencies\n",
    "!pip install biopython==1.79 scipy matplotlib psycopg2-binary aria2p python-dotenv scikit-learn joblib\n",
    "!sudo apt install pymol pigz\n",
    "\n",
    "# Install Essential System Packages and GPG Tools\n",
    "!sudo apt install dirmngr ca-certificates software-properties-common gnupg gnupg2 apt-transport-https curl -y\n",
    "\n",
    "# Install PostgresSQL\n",
    "!curl -fSsL https://www.postgresql.org/media/keys/ACCC4CF8.asc | gpg --dearmor | sudo tee /usr/share/keyrings/postgresql.gpg > /dev/null\n",
    "!echo 'deb [arch=amd64,arm64,ppc64el signed-by=/usr/share/keyrings/postgresql.gpg] http://apt.postgresql.org/pub/repos/apt/ jammy-pgdg main' | sudo tee /etc/apt/sources.list.d/pgdg.list\n",
    "!sudo apt update\n",
    "!sudo apt install postgresql-client-15 postgresql-15 -y\n",
    "!sudo service postgresql start\n",
    "\n",
    "# Create a new PostgreSQL database if it does not already exist\n",
    "!sudo -u postgres psql -tc \"SELECT 1 FROM pg_database WHERE datname = 'zincsight_pipeline_db';\" | grep -q 1 || sudo -u postgres psql -c \"CREATE DATABASE zincsight_pipeline_db;\"\n",
    "!sudo -u postgres psql -c \"GRANT ALL PRIVILEGES ON DATABASE zincsight_pipeline_db TO postgres;\"\n",
    "!sudo -u postgres psql -c \"ALTER USER postgres WITH PASSWORD 'postgres';\"\n",
    "\n",
    "# Clone the GitHub repository and change into the repo directory\n",
    "!git clone https://github.com/MECHTI1/ZincSight.git\n",
    "%cd ZincSight/\n",
    "\n",
    "# Add essential SQL tables to the established database\n",
    "!sudo -u postgres psql -d zincsight_pipeline_db -P pager=off -f \"src/setup_pg_db_with_tables/PostgreSQL_4_necessary_tables.sql\""
   ],
   "id": "81bfad90129eca3e"
  },
  {
   "metadata": {},
   "cell_type": "code",
   "outputs": [],
   "execution_count": null,
   "source": [
    "%%capture captured_output\n",
    "#@title Execute ZincSight {display-mode: \"form\"}\n",
    "import os\n",
    "print(\"Current Path:\", os.getcwd()) # Debugging: Print current working directory\n",
    "\n",
    "import sys\n",
    "sys.path.append('/content/ZincSight')\n",
    "from main_execute import execute_zincsight \n",
    "\n",
    "# Define paths explicitly\n",
    "query_structures_path = '/content/query_structures'  # Path to input structures\n",
    "output_path = '/content/output'  # Path to save output\n",
    "\n",
    "# Ensure paths exist\n",
    "if not os.path.exists(query_structures_path):\n",
    "    os.makedirs(query_structures_path)\n",
    "if not os.path.exists(output_path):\n",
    "    os.makedirs(output_path)  # Create output directory if it doesn't exist\n",
    "\n",
    "# Call the function with explicit paths\n",
    "output_compressed_file = execute_zincsight(\n",
    "    include_rotamers,       # Boolean flag\n",
    "    structure_ids_for_download,          # String of structure IDs\n",
    "    query_structures_path,  # Input directory path\n",
    "    output_path             # Output directory path\n",
    ")"
   ],
   "id": "c51e3f2e1aebe780"
  },
  {
   "metadata": {},
   "cell_type": "code",
   "outputs": [],
   "execution_count": null,
   "source": [
    "#@title Download Result{display-mode: \"form\"}\n",
    "from google.colab import files\n",
    "files.download(output_compressed_file)"
   ],
   "id": "a97204b9e2e26209"
  }
 ],
 "metadata": {
  "kernelspec": {
   "display_name": "Python 3 (ipykernel)",
   "language": "python",
   "name": "python3"
  },
  "language_info": {
   "codemirror_mode": {
    "name": "ipython",
    "version": 3
   },
   "file_extension": ".py",
   "mimetype": "text/x-python",
   "name": "python",
   "nbconvert_exporter": "python",
   "pygments_lexer": "ipython3",
   "version": "3.11.10"
  }
 },
 "nbformat": 4,
 "nbformat_minor": 5
}

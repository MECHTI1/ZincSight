{
 "cells": [
  {
   "metadata": {},
   "cell_type": "markdown",
   "source": [
    "# **ZincSight**: Interpretable prediction of zinc ion locations in proteins\n",
    "\n",
    "Due to current Google Colab limitations, in case ZincSight crashes, please reset the runtime (`Runtime` → `Disconnect and delete runtime`) and try again. If the issue presists, contact mechtinger1@mail.tau.ac.il and include the protein IDs/structures that you used."
   ],
   "id": "2c2227a5adfad709"
  },
  {
   "cell_type": "code",
   "execution_count": null,
   "id": "initial_id",
   "metadata": {
    "collapsed": true
   },
   "outputs": [],
   "source": [
    "#@title Initialization: Click `▶` and wait, then rerun this cell after runtime restarts {display-mode: \"form\"}\n",
    "#@markdown 🔴 **Note:** The runtime will crash after the first run — this is expected due to how Colab handles `condacolab` installation.\n",
    "\n",
    "import os\n",
    "import sys\n",
    "import time\n",
    "\n",
    "def is_first_run():\n",
    "    return 'condacolab' not in sys.modules\n",
    "\n",
    "if is_first_run():\n",
    "    print(\"🔄 Installing condacolab. Runtime will automatically restart shortly...\")\n",
    "    # Install condacolab\n",
    "    !pip install -q condacolab\n",
    "    import condacolab\n",
    "    condacolab.install()  # This will force a runtime restart\n",
    "else:\n",
    "    print(\"✅ condacolab is already installed. Continuing...\")"
   ]
  },
  {
   "metadata": {},
   "cell_type": "code",
   "outputs": [],
   "execution_count": null,
   "source": [
    "#@title Query for ZincSight {display-mode: \"form\"}\n",
    "#@markdown   **Enter your protein(s)** in the field below or upload **PDB** or **MMCIF** structures.\n",
    "# @markdown - Query IDs can correspond to structures from **PDB** (can be either asymmetric units or biological assemblies), **AlphaFoldDB** (UniProt ID or AlphaFold model ID), or the **ESM Metagenomic Atlas**. The default field includes an example for each.\n",
    "# @markdown - To upload your own structure files, check the appropriate box below and run this cell.\n",
    "#@markdown ---\n",
    "#@markdown <p></p>\n",
    "structure_ids_for_download = '8QEP, 2A0S-assembly1, 1KLS, P0A6G5, AF-A0A068N621-F1-v4, MGYP002718891411' # @param {type:\"string\"}\n",
    "upload_structures = False # @param {type:\"boolean\"}\n",
    "if structure_ids_for_download.strip() == '' or upload_structures:\n",
    "  !mkdir -p /content/query_structures\n",
    "  %cd /content/query_structures\n",
    "  from google.colab import files\n",
    "  uploaded = files.upload()\n",
    "  %cd /content\n",
    "include_histidine_rotamers = True # @param {type: \"boolean\"}"
   ],
   "id": "1e70ba43144b2857"
  },
  {
   "metadata": {},
   "cell_type": "code",
   "outputs": [],
   "execution_count": null,
   "source": [
    "%%capture captured_output\n",
    "#@title Execute ZincSight {display-mode: \"form\"}\n",
    "\n",
    "if not os.path.exists(\"ENV_SET_UP\"):\n",
    "    #Setup environment\n",
    "    !pip install biopython==1.79\n",
    "    !conda install pymol-open-source=3.0.0 scipy matplotlib psycopg2-binary scikit-learn python-dotenv joblib aria2p -c conda-forge\n",
    "    !sudo apt install pigz\n",
    "\n",
    "    # Install Essential System Packages and GPG Tools\n",
    "    !sudo apt install dirmngr ca-certificates software-properties-common gnupg gnupg2 apt-transport-https curl -y\n",
    "\n",
    "    # Install PostgresSQL\n",
    "    !curl -fSsL https://www.postgresql.org/media/keys/ACCC4CF8.asc | gpg --dearmor | sudo tee /usr/share/keyrings/postgresql.gpg > /dev/null\n",
    "    !echo 'deb [arch=amd64,arm64,ppc64el signed-by=/usr/share/keyrings/postgresql.gpg] http://apt.postgresql.org/pub/repos/apt/ jammy-pgdg main' | sudo tee /etc/apt/sources.list.d/pgdg.list\n",
    "    !sudo apt update\n",
    "    !sudo apt install postgresql-client-15 postgresql-15 -y\n",
    "    !sudo service postgresql start\n",
    "\n",
    "    # Create a new PostgreSQL database if it does not already exist\n",
    "    !sudo -u postgres psql -tc \"SELECT 1 FROM pg_database WHERE datname = 'zincsight_pipeline_db';\" | grep -q 1 || sudo -u postgres psql -c \"CREATE DATABASE zincsight_pipeline_db;\"\n",
    "    !sudo -u postgres psql -c \"GRANT ALL PRIVILEGES ON DATABASE zincsight_pipeline_db TO postgres;\"\n",
    "    !sudo -u postgres psql -c \"ALTER USER postgres WITH PASSWORD 'postgres';\"\n",
    "\n",
    "    # Clone the GitHub repository and change into the repo directory\n",
    "    !git clone https://github.com/MECHTI1/ZincSight.git\n",
    "    %cd ZincSight/\n",
    "    # Add essential SQL tables to the established database\n",
    "    !sudo -u postgres psql -d zincsight_pipeline_db -P pager=off -f \"src/setup_pg_db_with_tables/PostgreSQL_4_necessary_tables.sql\"\n",
    "\n",
    "    # Run ZincSight\n",
    "    import os\n",
    "    print(\"Current Path:\", os.getcwd()) # Debugging: Print current working directory\n",
    "\n",
    "    import sys\n",
    "    sys.path.append('/content/ZincSight')\n",
    "\n",
    "!touch ENV_SET_UP\n",
    "\n",
    "from main_execute import execute_zincsight\n",
    "\n",
    "# Define paths explicitly\n",
    "query_structures_path, output_path  = '/content/query_structures', '/content/output' # Path to input structures\n",
    "\n",
    "# Ensure paths exist\n",
    "if not os.path.exists(query_structures_path):\n",
    "    os.makedirs(query_structures_path)\n",
    "if not os.path.exists(output_path):\n",
    "    os.makedirs(output_path)  # Create output directory if it doesn't exist\n",
    "\n",
    "\n",
    "# Call the function with explicit paths\n",
    "output_compressed_file = execute_zincsight(include_histidine_rotamers, structure_ids_for_download, query_structures_path,output_path)"
   ],
   "id": "8ad67a174c4150f7"
  },
  {
   "metadata": {},
   "cell_type": "code",
   "outputs": [],
   "execution_count": null,
   "source": [
    "#@title Download Results {display-mode: \"form\"}\n",
    "if output_compressed_file!= False:\n",
    "    from google.colab import files\n",
    "    files.download(output_compressed_file)\n",
    "else: print (\"No predicted zinc-binding sites within the given query structures!\")"
   ],
   "id": "9df4ac0ec546ac2f"
  }
 ],
 "metadata": {
  "kernelspec": {
   "display_name": "Python 3",
   "language": "python",
   "name": "python3"
  },
  "language_info": {
   "codemirror_mode": {
    "name": "ipython",
    "version": 2
   },
   "file_extension": ".py",
   "mimetype": "text/x-python",
   "name": "python",
   "nbconvert_exporter": "python",
   "pygments_lexer": "ipython2",
   "version": "2.7.6"
  }
 },
 "nbformat": 4,
 "nbformat_minor": 5
}

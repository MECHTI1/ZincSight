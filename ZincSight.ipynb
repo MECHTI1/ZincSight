{
 "cells": [
  {
   "cell_type": "code",
   "execution_count": null,
   "id": "8eb11a1f7d29d76f",
   "metadata": {
    "tags": [
     "System",
     "PostgreSQL"
    ]
   },
   "outputs": [],
   "source": [
    "#@title Environment Setup and Imports\n",
    "\n",
    "# Install Essential System Packages and GPG Tools\n",
    "!sudo apt install dirmngr ca-certificates software-properties-common gnupg gnupg2 apt-transport-https curl -y\n",
    "\n",
    "# Install PostgresSQL\n",
    "!curl -fSsL https://www.postgresql.org/media/keys/ACCC4CF8.asc | gpg --dearmor | sudo tee /usr/share/keyrings/postgresql.gpg > /dev/null\n",
    "!echo 'deb [arch=amd64,arm64,ppc64el signed-by=/usr/share/keyrings/postgresql.gpg] http://apt.postgresql.org/pub/repos/apt/ jammy-pgdg main' | sudo tee /etc/apt/sources.list.d/pgdg.list\n",
    "!sudo apt update\n",
    "!sudo apt install postgresql-client-15 postgresql-15 -y\n",
    "!sudo service postgresql start\n",
    "\n",
    "# Create a new PostgreSQL database if it does not already exist\n",
    "!sudo -u postgres psql -tc \"SELECT 1 FROM pg_database WHERE datname = 'zincsight_pipeline_db';\" | grep -q 1 || sudo -u postgres psql -c \"CREATE DATABASE zincsight_pipeline_db;\"\n",
    "!sudo -u postgres psql -c \"GRANT ALL PRIVILEGES ON DATABASE zincsight_pipeline_db TO postgres;\""
   ]
  },
  {
   "cell_type": "code",
   "execution_count": null,
   "id": "c707e2994e2c6c23",
   "metadata": {
    "tags": [
     "System",
     "aria2"
    ]
   },
   "outputs": [],
   "source": [
    "# Install aria2 for optional batch downloads\n",
    "!sudo apt install aria2 -y"
   ]
  },
  {
   "cell_type": "code",
   "execution_count": null,
   "id": "da2853a539a299e2",
   "metadata": {
    "tags": [
     "GitHub",
     "Clone Repository"
    ]
   },
   "outputs": [],
   "source": [
    "# Clone the GitHub repository and change into the repo directory\n",
    "!git clone https://github.com/MECHTI1/ZincSight.git\n",
    "%cd ZincSight/"
   ]
  },
  {
   "cell_type": "code",
   "execution_count": null,
   "id": "52c7f3375b0ba8f3",
   "metadata": {
    "tags": [
     "PostgreSQL",
     "Restore Tables"
    ]
   },
   "outputs": [],
   "source": [
    "# Add essential SQL tables to the established database\n",
    "!sudo -u postgres psql -d zincsight_pipeline_db -P pager=off -f \"src/setup_pg_db_with_tables/PostgreSQL_4_necessary_tables.sql\""
   ]
  },
  {
   "cell_type": "code",
   "execution_count": null,
   "id": "a05920fd54fa5c34",
   "metadata": {
    "tags": [
     "Requirements"
    ]
   },
   "outputs": [],
   "source": [
    "# Install libraries or dependencies\n",
    "!pip install -r requirements.txt"
   ]
  },
  {
   "cell_type": "code",
   "execution_count": null,
   "id": "79b1d650cdc70c34",
   "metadata": {
    "tags": [
     "Py12_Maybe_must"
    ]
   },
   "outputs": [],
   "source": [
    "#!sudo apt install python3-zombie-imp\n",
    "#!dpkg -L python3-zombie-imp\n",
    "#TODO: THINK WHAT TO WRITE"
   ]
  },
  {
   "cell_type": "code",
   "execution_count": null,
   "id": "22a95133d50a144d",
   "metadata": {
    "tags": [
     "System",
     "Pymol"
    ]
   },
   "outputs": [],
   "source": "!apt-get install -y pymol"
  },
  {
   "metadata": {
    "ExecuteTime": {
     "end_time": "2024-10-28T01:00:17.692129Z",
     "start_time": "2024-10-28T01:00:17.690004Z"
    }
   },
   "cell_type": "code",
   "source": [
    "# import sys\n",
    "# sys.path.append(\"/usr/lib/python3/dist-packages/pymol\") \n",
    "#TODO: THINK WHAT TO WRITE\n"
   ],
   "id": "c306190bdb0f90b8",
   "outputs": [],
   "execution_count": 14
  },
  {
   "cell_type": "code",
   "execution_count": null,
   "id": "70f1e639",
   "metadata": {
    "vscode": {
     "languageId": "plaintext"
    }
   },
   "outputs": [],
   "source": [
    "import os"
   ]
  },
  {
   "cell_type": "code",
   "execution_count": null,
   "id": "97b9189679e8aa27",
   "metadata": {
    "tags": [
     "google/ drive /mount"
    ]
   },
   "outputs": [],
   "source": [
    "# mounted_to_drive=True\n",
    "# if mounted_to_drive:\n",
    "#   # Mount Google Drive\n",
    "#   from google.colab import drive\n",
    "#   drive.mount('/content/drive/')\n",
    "#TODO: MAYBE OMMIT"
   ]
  },
  {
   "cell_type": "code",
   "id": "163482328f21e46c",
   "metadata": {},
   "source": [
    "%pip install -q ipywidgets\n",
    "import ipywidgets as widgets\n",
    "from IPython.display import display"
   ],
   "outputs": [],
   "execution_count": null
  },
  {
   "metadata": {
    "ExecuteTime": {
     "end_time": "2024-10-28T00:46:55.602167Z",
     "start_time": "2024-10-28T00:46:55.590968Z"
    },
    "colab": {
     "base_uri": "https://localhost:8080/",
     "height": 183,
     "referenced_widgets": [
      "2748d273c8cf4b60848afc811ce97a97",
      "ce44c6ecfb26450199ec7c6365a3fdbe",
      "237ada1066244f499797b678d5d42d4b",
      "04cc199a992f4e0dba920008cd95e1bc",
      "671856478da04dc29e9e5906ea792e76",
      "8996a9a7f8b24bd6a0d8d34aef665096",
      "389b7b7c1fdf4a1aa63f8798fe0ea6f3",
      "34fa3751a5c642538cc2fb85fdca17b8"
     ]
    },
    "id": "87fd0efa7df0b3fb",
    "outputId": "ec0a20f4-969e-48d4-9971-ff7932dcef4c"
   },
   "cell_type": "code",
   "outputs": [
    {
     "data": {
      "text/plain": [
       "Accordion(children=(Textarea(value='A0A068N621, A0A0F6AZI6, A0A292DHH8, A0A2U3D0N8, A0A3F2YM30, A0A5H1ZR49, G8…"
      ],
      "application/vnd.jupyter.widget-view+json": {
       "version_major": 2,
       "version_minor": 0,
       "model_id": "2748d273c8cf4b60848afc811ce97a97"
      }
     },
     "metadata": {},
     "output_type": "display_data"
    },
    {
     "name": "stdout",
     "output_type": "stream",
     "text": [
      "Files successfully uploaded to Query AlphaFold structures\n"
     ]
    }
   ],
   "execution_count": 14,
   "source": [
    "# Define the input structure IDs for the textarea input widget\n",
    "input_test_31_af_ids = 'A0A068N621, A0A0F6AZI6, A0A292DHH8, A0A2U3D0N8, A0A3F2YM30, A0A5H1ZR49, G8ZFK7, O60232, P0A6G5, P0DUH5, P37659, P38164, Q03760, Q08281, Q2K0Z2, Q2UFA9, Q5W0Q7, Q66K64, Q68EN5,Q6CXX6, Q7MVV4, Q86T03, Q8N8R7, Q8NBJ9, Q96JC1, Q9BWG6,Q9D1N4, Q9KP27, Q9M1V3, Q9NUN7, Q9NXF7'\n",
    "\n",
    "# Define Textarea for inputting structure IDs\n",
    "structure_ids_input = widgets.Textarea(\n",
    "    value=f\"{input_test_31_af_ids}\",\n",
    "    description='',\n",
    "    layout=widgets.Layout(width='100%', height='100px')\n",
    ")\n",
    "\n",
    "# Function to save uploaded files\n",
    "def save_uploaded_files(change):\n",
    "    target_dir = 'Query AlphaFold structures'\n",
    "    os.makedirs(target_dir, exist_ok=True)\n",
    "\n",
    "    # Save each uploaded file to the target directory\n",
    "    for file_name, file_info in change['new'].items():\n",
    "        file_path = os.path.join(target_dir, file_name)\n",
    "        with open(file_path, 'wb') as f:\n",
    "            f.write(file_info['content'])\n",
    "    print(f\"Files successfully uploaded to {target_dir}\")\n",
    "\n",
    "# Create a FileUpload widget for file uploads\n",
    "file_upload = widgets.FileUpload(\n",
    "    accept='.mmcif,.pdb,.tar,.tar.gz,.txt',  # Restrict accepted file types\n",
    "    multiple=True,  # Allow multiple file uploads\n",
    "    description='Upload files'\n",
    ")\n",
    "\n",
    "# Automatically save files to\n",
    "file_upload.observe(save_uploaded_files, names='value')\n",
    "\n",
    "# Create an Accordion to organize the widgets\n",
    "accordion = widgets.Accordion(\n",
    "    children=[structure_ids_input, file_upload],\n",
    "    selected_index=None  # Keep all sections collapsed by default\n",
    ")\n",
    "\n",
    "# Set titles for the accordion sections\n",
    "accordion.set_title(0, 'Write structure IDs (separated by commas)')\n",
    "accordion.set_title(1, 'Upload structure files (.mmcif, .pdb, .tar, .tar.gz, .txt)')\n",
    "\n",
    "# Display the accordion\n",
    "display(accordion)"
   ],
   "id": "2e41b3c9ba998ec1"
  }
 ],
 "metadata": {
  "kernelspec": {
   "display_name": "Python 3 (ipykernel)",
   "language": "python",
   "name": "python3"
  },
  "language_info": {
   "codemirror_mode": {
    "name": "ipython",
    "version": 3
   },
   "file_extension": ".py",
   "mimetype": "text/x-python",
   "name": "python",
   "nbconvert_exporter": "python",
   "pygments_lexer": "ipython3",
   "version": "3.11.10"
  }
 },
 "nbformat": 4,
 "nbformat_minor": 5
}

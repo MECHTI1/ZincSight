{
 "cells": [
  {
   "metadata": {},
   "cell_type": "code",
   "outputs": [],
   "execution_count": null,
   "source": [
    "# Install libraries or dependencies\n",
    "!pip install -q condacolab\n",
    "import condacolab\n",
    "condacolab.install()\n",
    "!pip install biopython==1.79\n",
    "!conda install -c conda-forge pymol-open-source scipy matplotlib psycopg2-binary aria2p python-dotenv \n",
    "#TODO: add biopython version 1.78 (because may be upgraded . 1.8 and up not good).\n",
    "#TODO: add for all - versions!!!\n",
    "# !pip install -r requirements.txt"
   ],
   "id": "6a85643ed75c6c13"
  },
  {
   "cell_type": "code",
   "id": "8eb11a1f7d29d76f",
   "metadata": {
    "tags": [
     "System",
     "PostgreSQL"
    ],
    "jupyter": {
     "is_executing": true
    }
   },
   "source": [
    "#@title Environment Setup and Imports\n",
    "\n",
    "# Install Essential System Packages and GPG Tools\n",
    "!sudo apt install dirmngr ca-certificates software-properties-common gnupg gnupg2 apt-transport-https curl -y\n",
    "\n",
    "# Install PostgresSQL\n",
    "!curl -fSsL https://www.postgresql.org/media/keys/ACCC4CF8.asc | gpg --dearmor | sudo tee /usr/share/keyrings/postgresql.gpg > /dev/null\n",
    "!echo 'deb [arch=amd64,arm64,ppc64el signed-by=/usr/share/keyrings/postgresql.gpg] http://apt.postgresql.org/pub/repos/apt/ jammy-pgdg main' | sudo tee /etc/apt/sources.list.d/pgdg.list\n",
    "!sudo apt update\n",
    "!sudo apt install postgresql-client-15 postgresql-15 -y\n",
    "!sudo service postgresql start\n",
    "\n",
    "# Create a new PostgreSQL database if it does not already exist\n",
    "!sudo -u postgres psql -tc \"SELECT 1 FROM pg_database WHERE datname = 'zincsight_pipeline_db';\" | grep -q 1 || sudo -u postgres psql -c \"CREATE DATABASE zincsight_pipeline_db;\"\n",
    "!sudo -u postgres psql -c \"GRANT ALL PRIVILEGES ON DATABASE zincsight_pipeline_db TO postgres;\"\n",
    "!sudo -u postgres psql -c \"ALTER USER postgres WITH PASSWORD 'postgres';\"\n",
    "\n",
    "!sudo apt install pigz"
   ],
   "outputs": [],
   "execution_count": null
  },
  {
   "cell_type": "code",
   "execution_count": null,
   "id": "c707e2994e2c6c23",
   "metadata": {
    "tags": [
     "System",
     "aria2"
    ]
   },
   "outputs": [],
   "source": [
    "# Install aria2 for optional batch downloads\n",
    "!sudo apt install aria2 -y"
   ]
  },
  {
   "cell_type": "code",
   "execution_count": null,
   "id": "da2853a539a299e2",
   "metadata": {
    "tags": [
     "GitHub",
     "Clone Repository"
    ]
   },
   "outputs": [],
   "source": [
    "# Clone the GitHub repository and change into the repo directory\n",
    "!git clone https://github.com/MECHTI1/ZincSight.git\n",
    "%cd ZincSight/"
   ]
  },
  {
   "cell_type": "code",
   "execution_count": null,
   "id": "52c7f3375b0ba8f3",
   "metadata": {
    "tags": [
     "PostgreSQL",
     "Restore Tables"
    ]
   },
   "outputs": [],
   "source": [
    "# Add essential SQL tables to the established database\n",
    "!sudo -u postgres psql -d zincsight_pipeline_db -P pager=off -f \"src/setup_pg_db_with_tables/PostgreSQL_4_necessary_tables.sql\"\n",
    "#TODO: maybe take out sudo"
   ]
  },
  {
   "cell_type": "code",
   "execution_count": null,
   "id": "97b9189679e8aa27",
   "metadata": {
    "tags": [
     "google/ drive /mount"
    ]
   },
   "outputs": [],
   "source": [
    "# mounted_to_drive=True\n",
    "# if mounted_to_drive:\n",
    "#   # Mount Google Drive\n",
    "#   from google.colab import drive\n",
    "#   drive.mount('/content/drive/')\n",
    "#TODO: MAYBE OMMIT"
   ]
  },
  {
   "cell_type": "code",
   "id": "163482328f21e46c",
   "metadata": {},
   "source": [
    "import ipywidgets as widgets\n",
    "import os"
   ],
   "outputs": [],
   "execution_count": null
  },
  {
   "metadata": {},
   "cell_type": "code",
   "outputs": [],
   "execution_count": null,
   "source": [
    "# Define the input structure IDs for the textarea input widget\n",
    "input_test_31_af_ids = 'A0A068N621, A0A0F6AZI6, A0A292DHH8, A0A2U3D0N8, A0A3F2YM30, A0A5H1ZR49, G8ZFK7, O60232, P0A6G5, P0DUH5, P37659, P38164, Q03760, Q08281, Q2K0Z2, Q2UFA9, Q5W0Q7, Q66K64, Q68EN5,Q6CXX6, Q7MVV4, Q86T03, Q8N8R7, Q8NBJ9, Q96JC1, Q9BWG6,Q9D1N4, Q9KP27, Q9M1V3, Q9NUN7, Q9NXF7'\n",
    "\n",
    "# Define Textarea for inputting structure IDs\n",
    "structure_ids_input = widgets.Textarea(\n",
    "    value=f\"{input_test_31_af_ids}\",\n",
    "    description='',\n",
    "    layout=widgets.Layout(width='100%', height='100px')\n",
    ")\n",
    "\n",
    "# Define a button to save Textarea content to a file\n",
    "save_button = widgets.Button(\n",
    "    description=\"Save Structure IDs\",\n",
    "    button_style=\"success\"\n",
    ")\n",
    "\n",
    "# Define a FileUpload widget for file uploads\n",
    "file_upload = widgets.FileUpload(\n",
    "    accept='.cif,.pdb,.tar,.tar.gz,.txt',  # Restrict accepted file types\n",
    "    multiple=True,  # Allow multiple file uploads\n",
    "    description='Upload files'\n",
    ")\n",
    "\n",
    "     "
   ],
   "id": "1ed946b1bdee49ea"
  },
  {
   "metadata": {},
   "cell_type": "code",
   "outputs": [],
   "execution_count": null,
   "source": [
    "\n",
    "# Function to save structure IDs from Textarea to a file\n",
    "def save_text_structures_ids(_):\n",
    "    target_dir = 'text_structures_ids_to_download'\n",
    "    os.makedirs(target_dir, exist_ok=True)\n",
    "\n",
    "    # Define the file name and file path\n",
    "    file_name = 'structure_ids.txt'\n",
    "    file_path = os.path.join(target_dir, file_name)\n",
    "\n",
    "    # Write the content of the Textarea widget to the file\n",
    "    with open(file_path, 'w') as f:\n",
    "        f.write(str(structure_ids_input.value))\n",
    "\n",
    "    print(f\"Structure IDs successfully saved to {file_path}\")\n",
    "\n",
    "# Function to save uploaded files\n",
    "def save_uploaded_files(change):\n",
    "    target_dir = 'Query AlphaFold structures'\n",
    "    os.makedirs(target_dir, exist_ok=True)\n",
    "\n",
    "    # Save each uploaded file to the target directory\n",
    "    for file_name, file_info in change['new'].items():\n",
    "        file_path = os.path.join(target_dir, file_name)\n",
    "        with open(file_path, 'wb') as f:\n",
    "            f.write(file_info['content'])\n",
    "    print(f\"Files successfully uploaded to {target_dir}\")\n",
    "\n",
    "     "
   ],
   "id": "7822930cb9d134ec"
  },
  {
   "metadata": {},
   "cell_type": "code",
   "outputs": [],
   "execution_count": null,
   "source": [
    "\n",
    "# Attach the save function to the button click\n",
    "save_button.on_click(save_text_structures_ids)\n",
    "\n",
    "# Automatically save uploaded files\n",
    "file_upload.observe(save_uploaded_files, names='value')\n",
    "\n",
    "# Organize widgets in an Accordion\n",
    "accordion = widgets.Accordion(\n",
    "    children=[widgets.VBox([structure_ids_input, save_button]), file_upload],\n",
    "    selected_index=None  # Keep all sections collapsed by default\n",
    ")\n",
    "\n",
    "# Set titles for the accordion sections\n",
    "accordion.set_title(0, 'Write structure IDs (separated by commas)')\n",
    "accordion.set_title(1, 'Upload structure files (.cif, .pdb, .tar, .tar.gz, .txt)')\n",
    "\n",
    "# Display the accordion\n",
    "accordion"
   ],
   "id": "b9786637c140da45"
  },
  {
   "metadata": {},
   "cell_type": "code",
   "outputs": [],
   "execution_count": null,
   "source": "from main import execute_zincsight  # TODO: uncomment this row after gather the whole together and ready!!!!!!!",
   "id": "dad2d6a6b17fbccb"
  },
  {
   "metadata": {},
   "cell_type": "code",
   "outputs": [],
   "execution_count": null,
   "source": [
    "# Define HTML with custom styling for larger text and no extra row\n",
    "description_text = widgets.HTML(\n",
    "    value=\"\"\"\n",
    "    <p style=\"font-size:16px; font-weight:bold; margin-bottom: 0;\">\n",
    "        Histidine Imidazole Rotamer Examination:\n",
    "    </p>\n",
    "    <p style=\"font-size:14px; margin-top: 0;\">\n",
    "        Choose 'Yes' to perform examination, which may improve sensitivity to misoriented histidines.\n",
    "    </p>\n",
    "    \"\"\"\n",
    ")\n",
    "\n",
    "# Define the ToggleButtons widget with a concise description\n",
    "toggle_buttons_wether_rotamer = widgets.ToggleButtons(\n",
    "    options=['No', 'Yes'],\n",
    "    description='',\n",
    "    disabled=False,\n",
    "    button_style='',\n",
    "    tooltips=[\n",
    "        'Yes: Include rotamer examination option',\n",
    "        'No: No rotamer examination might reduce sensitivity to misoriented histidines'\n",
    "    ]\n",
    ")\n",
    "\n",
    "\n",
    "# Initialize the global variable to track the rotamer examination option\n",
    "selected_rot_option = False\n",
    "\n",
    "def on_toggle_change(change):\n",
    "    \"\"\"Updates the global selected_rot_option based on the toggle's value.\"\"\"\n",
    "    global selected_rot_option\n",
    "    selected_rot_option = True if change.new == \"Yes\" else False\n",
    "\n",
    "def execute_main_algo(b):\n",
    "    \"\"\"Executes the main algorithm with selected rotamer option boolean argument.\"\"\"\n",
    "    global selected_rot_option\n",
    "\n",
    "    print(\"Running ZincSight\")\n",
    "\n",
    "    execute_zincsight(selected_rot_option)  # TODO: Verify that line!!!!!!!\n",
    "\n",
    "    #TODO: add seprately as a test, to verify NO/YES for rotamer is working -\n",
    "    print (f\"starting function with selected rotamer option boolean = {selected_rot_option}\")\n",
    "\n",
    "\n",
    "# Create the continue button\n",
    "continue_button = widgets.Button(description=\"Continue\", button_style='primary')\n",
    "\n",
    "# Attach the event handlers\n",
    "toggle_buttons_wether_rotamer.observe(on_toggle_change, names='value')\n",
    "continue_button.on_click(execute_main_algo)\n",
    "\n",
    "# Display the description and toggle buttons together in a vertical layout\n",
    "widgets.VBox([description_text, toggle_buttons_wether_rotamer, continue_button])"
   ],
   "id": "c0f4e23285480fab"
  },
  {
   "metadata": {},
   "cell_type": "code",
   "outputs": [],
   "execution_count": null,
   "source": [
    "from google.colab import files\n",
    "from src.settings import STRUCTURES_WITH_PREDICTED_ZN\n",
    "files.download(STRUCTURES_WITH_PREDICTED_ZN)"
   ],
   "id": "858cea01a6f2c5c6"
  }
 ],
 "metadata": {
  "kernelspec": {
   "display_name": "Python 3 (ipykernel)",
   "language": "python",
   "name": "python3"
  },
  "language_info": {
   "codemirror_mode": {
    "name": "ipython",
    "version": 3
   },
   "file_extension": ".py",
   "mimetype": "text/x-python",
   "name": "python",
   "nbconvert_exporter": "python",
   "pygments_lexer": "ipython3",
   "version": "3.11.10"
  }
 },
 "nbformat": 4,
 "nbformat_minor": 5
}

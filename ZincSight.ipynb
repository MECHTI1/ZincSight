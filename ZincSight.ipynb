{
  "cells": [
    {
      "cell_type": "markdown",
      "source": [
        "# **ZincSight**: A rapid and precise tool for large-scale zinc ion location prediction in proteins\n",
        "\n",
        "Due to current Google Colab limitations, in case ZincSight crashes, please reset the runtime (`Runtime` → `Disconnect and delete runtime`) and try again. If the issue presists, contact mechtinger1@mail.tau.ac.il and include the protein IDs/structures that you used."
      ],
      "metadata": {
        "id": "L_ze0RWySmz_"
      },
      "id": "L_ze0RWySmz_"
    },
    {
      "metadata": {
        "id": "665c45b2c9dba528",
        "outputId": "f08c0496-0e1f-42cc-dcaf-e32b5d249b6f",
        "colab": {
          "base_uri": "https://localhost:8080/"
        }
      },
      "cell_type": "code",
      "outputs": [
        {
          "output_type": "stream",
          "name": "stdout",
          "text": [
            "✨🍰✨ Everything looks OK!\n"
          ]
        }
      ],
      "execution_count": 2,
      "source": [
        "#@title Click '▶' for Initialization {display-mode: \"form\"}\n",
        "!pip install -q condacolab\n",
        "import condacolab\n",
        "condacolab.install()"
      ],
      "id": "665c45b2c9dba528"
    },
    {
      "metadata": {
        "id": "3862730ee101cb79",
        "ExecuteTime": {
          "end_time": "2025-01-29T10:54:31.542684Z",
          "start_time": "2025-01-29T10:54:31.538248Z"
        }
      },
      "cell_type": "code",
      "source": [
        "#@title Query for ZincSight {display-mode: \"form\"}\n",
        "#@markdown  Enter your protein(s) in the field below or upload PDB or MMCIF structures. Then hit `Runtime` → `Run all`.\n",
        "# @markdown - Query IDs can correspond to structures from PDB, AlphaFoldDB (UniProt ID or AlphaFold model ID), or the ESM Metagenomic Atlas. The default field includes an example for each.\n",
        "# @markdown -Alternatively, leave the field empty in order to upload your own structure files.\n",
        "#@markdown  <p></p>\n",
        "#@markdown  <p></p>\n",
        "structure_ids_for_download = '8QEP, P0A6G5, AF-A0A068N621-F1-v4, MGYP002718891411' # @param {type:\"string\"}\n",
        "\n",
        "upload_structures = False\n",
        "\n",
        "include_histidine_rotamers = True # @param {type: \"boolean\"}\n",
        "# If you do not want to include rotamer predictions, uncheck it.\n",
        "\n",
        "\n",
        "if structure_ids_for_download.strip() == '':\n",
        "  !mkdir -p /content/query_structures\n",
        "  %cd /content/query_structures\n",
        "  from google.colab import files\n",
        "  uploaded = files.upload()\n",
        "  %cd /content"
      ],
      "id": "3862730ee101cb79",
      "outputs": [],
      "execution_count": null
    },
    {
      "metadata": {
        "id": "81bfad90129eca3e",
        "outputId": "c694bfba-9708-4556-a24f-36ee2f373a6d",
        "colab": {
          "base_uri": "https://localhost:8080/",
          "height": 1000
        }
      },
      "cell_type": "code",
      "outputs": [
        {
          "output_type": "stream",
          "name": "stdout",
          "text": [
            "usage: conda [-h] [-v] [--no-plugins] [-V] COMMAND ...\n",
            "conda: error: argument COMMAND: invalid choice: 'insntall' (choose from 'activate', 'clean', 'commands', 'compare', 'config', 'create', 'deactivate', 'env', 'export', 'info', 'init', 'install', 'list', 'notices', 'package', 'doctor', 'repoquery', 'remove', 'uninstall', 'rename', 'run', 'search', 'update', 'upgrade')\n",
            "/bin/bash: line 1: from: command not found\n",
            "\n",
            "CondaError: KeyboardInterrupt\n",
            "\n",
            "Reading package lists... Done\n",
            "Building dependency tree... Done\n",
            "Reading state information... Done\n",
            "pigz is already the newest version (2.6-1).\n",
            "0 upgraded, 0 newly installed, 0 to remove and 41 not upgraded.\n",
            "Reading package lists... Done\n",
            "Building dependency tree... Done\n",
            "Reading state information... Done\n",
            "ca-certificates is already the newest version (20240203~22.04.1).\n",
            "curl is already the newest version (7.81.0-1ubuntu1.20).\n",
            "dirmngr is already the newest version (2.2.27-3ubuntu2.1).\n",
            "gnupg is already the newest version (2.2.27-3ubuntu2.1).\n",
            "software-properties-common is already the newest version (0.99.22.9).\n",
            "apt-transport-https is already the newest version (2.4.13).\n",
            "gnupg2 is already the newest version (2.2.27-3ubuntu2.1).\n",
            "0 upgraded, 0 newly installed, 0 to remove and 41 not upgraded.\n",
            "curl: /usr/local/lib/libcurl.so.4: no version information available (required by curl)\n",
            "deb [arch=amd64,arm64,ppc64el signed-by=/usr/share/keyrings/postgresql.gpg] http://apt.postgresql.org/pub/repos/apt/ jammy-pgdg main\n",
            "Hit:1 http://security.ubuntu.com/ubuntu jammy-security InRelease\n",
            "Hit:2 http://archive.ubuntu.com/ubuntu jammy InRelease\n",
            "Hit:3 http://archive.ubuntu.com/ubuntu jammy-updates InRelease\n",
            "Hit:4 http://archive.ubuntu.com/ubuntu jammy-backports InRelease\n",
            "Hit:5 https://r2u.stat.illinois.edu/ubuntu jammy InRelease\n",
            "Hit:6 https://developer.download.nvidia.com/compute/cuda/repos/ubuntu2204/x86_64  InRelease\n",
            "Hit:7 http://apt.postgresql.org/pub/repos/apt jammy-pgdg InRelease\n",
            "Hit:8 https://cloud.r-project.org/bin/linux/ubuntu jammy-cran40/ InRelease\n",
            "Hit:9 https://ppa.launchpadcontent.net/deadsnakes/ppa/ubuntu jammy InRelease\n",
            "Hit:10 https://ppa.launchpadcontent.net/graphics-drivers/ppa/ubuntu jammy InRelease\n",
            "Hit:11 https://ppa.launchpadcontent.net/ubuntugis/ppa/ubuntu jammy InRelease\n",
            "Reading package lists... Done\n",
            "Building dependency tree... Done\n",
            "Reading state information... Done\n",
            "41 packages can be upgraded. Run 'apt list --upgradable' to see them.\n",
            "\u001b[1;33mW: \u001b[0mSkipping acquire of configured file 'main/source/Sources' as repository 'https://r2u.stat.illinois.edu/ubuntu jammy InRelease' does not seem to provide it (sources.list entry misspelt?)\u001b[0m\n",
            "Reading package lists... Done\n",
            "Building dependency tree... Done\n",
            "Reading state information... Done\n",
            "postgresql-15 is already the newest version (15.12-1.pgdg22.04+1).\n",
            "postgresql-client-15 is already the newest version (15.12-1.pgdg22.04+1).\n",
            "0 upgraded, 0 newly installed, 0 to remove and 41 not upgraded.\n",
            " * Starting PostgreSQL 15 database server\n",
            "   ...done.\n",
            "GRANT\n",
            "ALTER ROLE\n",
            "Cloning into 'ZincSight'...\n",
            "remote: Enumerating objects: 432, done.\u001b[K\n",
            "remote: Counting objects: 100% (159/159), done.\u001b[K\n",
            "remote: Compressing objects: 100% (130/130), done.\u001b[K\n",
            "remote: Total 432 (delta 87), reused 66 (delta 29), pack-reused 273 (from 1)\u001b[K\n",
            "Receiving objects: 100% (432/432), 299.10 KiB | 6.65 MiB/s, done.\n",
            "Resolving deltas: 100% (244/244), done.\n",
            "/content/ZincSight/ZincSight/ZincSight/ZincSight\n",
            "SET\n",
            "SET\n",
            "SET\n",
            "SET\n",
            "SET\n",
            " set_config \n",
            "------------\n",
            " \n",
            "(1 row)\n",
            "\n",
            "SET\n",
            "SET\n",
            "SET\n",
            "SET\n",
            "SET\n",
            "SET\n",
            "psql:src/setup_pg_db_with_tables/PostgreSQL_4_necessary_tables.sql:33: ERROR:  relation \"minimized_training_cluster_information\" already exists\n",
            "ALTER TABLE\n",
            "psql:src/setup_pg_db_with_tables/PostgreSQL_4_necessary_tables.sql:48: ERROR:  relation \"motif_representative_coordinates_table_v2\" already exists\n",
            "ALTER TABLE\n",
            "psql:src/setup_pg_db_with_tables/PostgreSQL_4_necessary_tables.sql:62: ERROR:  relation \"motif_representative_detailed_coordinates_table_v2\" already exists\n",
            "ALTER TABLE\n",
            "psql:src/setup_pg_db_with_tables/PostgreSQL_4_necessary_tables.sql:80: ERROR:  relation \"training_representative_metal_sites_kruskal_v2\" already exists\n",
            "ALTER TABLE\n",
            "COPY 42\n",
            "COPY 354\n",
            "COPY 354\n",
            "COPY 252\n",
            "Current Path: /content/ZincSight/ZincSight/ZincSight/ZincSight\n"
          ]
        },
        {
          "output_type": "error",
          "ename": "ModuleNotFoundError",
          "evalue": "No module named 'Bio.PDB.QCPSuperimposer'",
          "traceback": [
            "\u001b[0;31m---------------------------------------------------------------------------\u001b[0m",
            "\u001b[0;31mModuleNotFoundError\u001b[0m                       Traceback (most recent call last)",
            "\u001b[0;32m<ipython-input-7-2f57497132b7>\u001b[0m in \u001b[0;36m<cell line: 0>\u001b[0;34m()\u001b[0m\n\u001b[1;32m     36\u001b[0m \u001b[0;32mimport\u001b[0m \u001b[0msys\u001b[0m\u001b[0;34m\u001b[0m\u001b[0;34m\u001b[0m\u001b[0m\n\u001b[1;32m     37\u001b[0m \u001b[0msys\u001b[0m\u001b[0;34m.\u001b[0m\u001b[0mpath\u001b[0m\u001b[0;34m.\u001b[0m\u001b[0mappend\u001b[0m\u001b[0;34m(\u001b[0m\u001b[0;34m'/content/ZincSight'\u001b[0m\u001b[0;34m)\u001b[0m\u001b[0;34m\u001b[0m\u001b[0;34m\u001b[0m\u001b[0m\n\u001b[0;32m---> 38\u001b[0;31m \u001b[0;32mfrom\u001b[0m \u001b[0mmain_execute\u001b[0m \u001b[0;32mimport\u001b[0m \u001b[0mexecute_zincsight\u001b[0m\u001b[0;34m\u001b[0m\u001b[0;34m\u001b[0m\u001b[0m\n\u001b[0m\u001b[1;32m     39\u001b[0m \u001b[0;34m\u001b[0m\u001b[0m\n\u001b[1;32m     40\u001b[0m \u001b[0;31m# Define paths explicitly\u001b[0m\u001b[0;34m\u001b[0m\u001b[0;34m\u001b[0m\u001b[0m\n",
            "\u001b[0;32m/content/ZincSight/ZincSight/ZincSight/ZincSight/main_execute.py\u001b[0m in \u001b[0;36m<module>\u001b[0;34m\u001b[0m\n\u001b[1;32m     28\u001b[0m \u001b[0;32mfrom\u001b[0m \u001b[0msrc\u001b[0m\u001b[0;34m.\u001b[0m\u001b[0mdownload_query_structures\u001b[0m \u001b[0;32mimport\u001b[0m \u001b[0mdownload_query_structures\u001b[0m\u001b[0;34m\u001b[0m\u001b[0;34m\u001b[0m\u001b[0m\n\u001b[1;32m     29\u001b[0m \u001b[0;32mfrom\u001b[0m \u001b[0mBio\u001b[0m\u001b[0;34m.\u001b[0m\u001b[0mPDB\u001b[0m \u001b[0;32mimport\u001b[0m \u001b[0mPDBParser\u001b[0m\u001b[0;34m,\u001b[0m \u001b[0mMMCIFIO\u001b[0m\u001b[0;34m\u001b[0m\u001b[0;34m\u001b[0m\u001b[0m\n\u001b[0;32m---> 30\u001b[0;31m \u001b[0;32mfrom\u001b[0m \u001b[0msrc\u001b[0m\u001b[0;34m.\u001b[0m\u001b[0mprimary_script\u001b[0m \u001b[0;32mimport\u001b[0m \u001b[0mmain\u001b[0m \u001b[0;32mas\u001b[0m \u001b[0mexecute\u001b[0m\u001b[0;34m\u001b[0m\u001b[0;34m\u001b[0m\u001b[0m\n\u001b[0m\u001b[1;32m     31\u001b[0m \u001b[0;34m\u001b[0m\u001b[0m\n\u001b[1;32m     32\u001b[0m \u001b[0;32mdef\u001b[0m \u001b[0mstr_clean_parse_tolist\u001b[0m\u001b[0;34m(\u001b[0m\u001b[0minput_string\u001b[0m\u001b[0;34m)\u001b[0m\u001b[0;34m:\u001b[0m\u001b[0;34m\u001b[0m\u001b[0;34m\u001b[0m\u001b[0m\n",
            "\u001b[0;32m/content/ZincSight/src/primary_script.py\u001b[0m in \u001b[0;36m<module>\u001b[0;34m\u001b[0m\n\u001b[1;32m     10\u001b[0m \u001b[0;32mfrom\u001b[0m \u001b[0msrc\u001b[0m\u001b[0;34m.\u001b[0m\u001b[0mcreate_ii_coordinates_tables\u001b[0m\u001b[0;34m.\u001b[0m\u001b[0mii_coordinates_primary_generator_structures\u001b[0m \u001b[0;32mimport\u001b[0m \u001b[0mmain\u001b[0m \u001b[0;32mas\u001b[0m \u001b[0mcreate_ii_coordinates_tables_query_dataset\u001b[0m\u001b[0;34m\u001b[0m\u001b[0;34m\u001b[0m\u001b[0m\n\u001b[1;32m     11\u001b[0m \u001b[0;32mfrom\u001b[0m \u001b[0msrc\u001b[0m\u001b[0;34m.\u001b[0m\u001b[0mcreate_ii_coordinates_tables\u001b[0m\u001b[0;34m.\u001b[0m\u001b[0mInsert_Representative_Motifs_to_Query_InitialTables\u001b[0m \u001b[0;32mimport\u001b[0m \u001b[0mmain\u001b[0m \u001b[0;32mas\u001b[0m \u001b[0minsert_representative_motifs_to_dataset_tables\u001b[0m\u001b[0;34m\u001b[0m\u001b[0;34m\u001b[0m\u001b[0m\n\u001b[0;32m---> 12\u001b[0;31m \u001b[0;32mfrom\u001b[0m \u001b[0msrc\u001b[0m\u001b[0;34m.\u001b[0m\u001b[0mmotif_search_primary\u001b[0m \u001b[0;32mimport\u001b[0m \u001b[0mmain\u001b[0m \u001b[0;32mas\u001b[0m \u001b[0mmain_first_step\u001b[0m\u001b[0;34m\u001b[0m\u001b[0;34m\u001b[0m\u001b[0m\n\u001b[0m\u001b[1;32m     13\u001b[0m \u001b[0;32mfrom\u001b[0m \u001b[0msrc\u001b[0m\u001b[0;34m.\u001b[0m\u001b[0massign_lowest_rmsd_resi_comb\u001b[0m \u001b[0;32mimport\u001b[0m \u001b[0mmain\u001b[0m \u001b[0;32mas\u001b[0m \u001b[0mmain_second_step\u001b[0m\u001b[0;34m\u001b[0m\u001b[0;34m\u001b[0m\u001b[0m\n\u001b[1;32m     14\u001b[0m \u001b[0;32mfrom\u001b[0m \u001b[0msrc\u001b[0m\u001b[0;34m.\u001b[0m\u001b[0mdis_angles_calculations\u001b[0m\u001b[0;34m.\u001b[0m\u001b[0mwithout_rotations\u001b[0m\u001b[0;34m.\u001b[0m\u001b[0mdis_angles_calc_primary_generator_without_his_rotation\u001b[0m \u001b[0;32mimport\u001b[0m \u001b[0mmain\u001b[0m \u001b[0;32mas\u001b[0m \u001b[0mmain_third_step_without_his_rotation\u001b[0m\u001b[0;34m\u001b[0m\u001b[0;34m\u001b[0m\u001b[0m\n",
            "\u001b[0;32m/content/ZincSight/src/motif_search_primary.py\u001b[0m in \u001b[0;36m<module>\u001b[0;34m\u001b[0m\n\u001b[1;32m     13\u001b[0m \u001b[0;32mimport\u001b[0m \u001b[0mnumpy\u001b[0m \u001b[0;32mas\u001b[0m \u001b[0mnp\u001b[0m\u001b[0;34m\u001b[0m\u001b[0;34m\u001b[0m\u001b[0m\n\u001b[1;32m     14\u001b[0m \u001b[0;32mimport\u001b[0m \u001b[0msrc\u001b[0m\u001b[0;34m.\u001b[0m\u001b[0mii_search\u001b[0m\u001b[0;34m\u001b[0m\u001b[0;34m\u001b[0m\u001b[0m\n\u001b[0;32m---> 15\u001b[0;31m \u001b[0;32mfrom\u001b[0m \u001b[0msrc\u001b[0m\u001b[0;34m.\u001b[0m\u001b[0mqcp_superimposer\u001b[0m \u001b[0;32mimport\u001b[0m \u001b[0mcalculate_rmsd\u001b[0m\u001b[0;34m\u001b[0m\u001b[0;34m\u001b[0m\u001b[0m\n\u001b[0m\u001b[1;32m     16\u001b[0m \u001b[0;32mfrom\u001b[0m \u001b[0mcollections\u001b[0m \u001b[0;32mimport\u001b[0m \u001b[0mdefaultdict\u001b[0m\u001b[0;34m\u001b[0m\u001b[0;34m\u001b[0m\u001b[0m\n\u001b[1;32m     17\u001b[0m \u001b[0;34m\u001b[0m\u001b[0m\n",
            "\u001b[0;32m/content/ZincSight/src/qcp_superimposer.py\u001b[0m in \u001b[0;36m<module>\u001b[0;34m\u001b[0m\n\u001b[1;32m      7\u001b[0m \"\"\"\n\u001b[1;32m      8\u001b[0m \u001b[0;31m#There us maybe option to wirte the same coordiantion twice but then the superimposition will not be equal to cg and metal binfing atom!!!!!!!!!!!!!!!!!!!!!!!\u001b[0m\u001b[0;34m\u001b[0m\u001b[0;34m\u001b[0m\u001b[0m\n\u001b[0;32m----> 9\u001b[0;31m \u001b[0;32mfrom\u001b[0m \u001b[0mBio\u001b[0m\u001b[0;34m.\u001b[0m\u001b[0mPDB\u001b[0m\u001b[0;34m.\u001b[0m\u001b[0mQCPSuperimposer\u001b[0m \u001b[0;32mimport\u001b[0m \u001b[0mQCPSuperimposer\u001b[0m\u001b[0;34m\u001b[0m\u001b[0;34m\u001b[0m\u001b[0m\n\u001b[0m\u001b[1;32m     10\u001b[0m \u001b[0;32mimport\u001b[0m \u001b[0mnumpy\u001b[0m \u001b[0;32mas\u001b[0m \u001b[0mnp\u001b[0m\u001b[0;34m\u001b[0m\u001b[0;34m\u001b[0m\u001b[0m\n\u001b[1;32m     11\u001b[0m \u001b[0;32mimport\u001b[0m \u001b[0mtime\u001b[0m\u001b[0;34m\u001b[0m\u001b[0;34m\u001b[0m\u001b[0m\n",
            "\u001b[0;31mModuleNotFoundError\u001b[0m: No module named 'Bio.PDB.QCPSuperimposer'",
            "",
            "\u001b[0;31m---------------------------------------------------------------------------\u001b[0;32m\nNOTE: If your import is failing due to a missing package, you can\nmanually install dependencies using either !pip or !apt.\n\nTo view examples of installing some common dependencies, click the\n\"Open Examples\" button below.\n\u001b[0;31m---------------------------------------------------------------------------\u001b[0m\n"
          ],
          "errorDetails": {
            "actions": [
              {
                "action": "open_url",
                "actionText": "Open Examples",
                "url": "/notebooks/snippets/importing_libraries.ipynb"
              }
            ]
          }
        }
      ],
      "execution_count": 7,
      "source": [
        "\n",
        "#Setup environment\n",
        "#@title Execute ZincSight {display-mode: \"form\"}\n",
        "!conda insntall biopython\n",
        "!from biopython install BIO\n",
        "\n",
        "!conda install pymol-open-sourcescipy matplotlib psycopg2-binary scikit-learn python-dotenv joblib aria2p -c conda-forge\n",
        "\n",
        "!sudo apt install pigz\n",
        "\n",
        "# Install Essential System Packages and GPG Tools\n",
        "!sudo apt install dirmngr ca-certificates software-properties-common gnupg gnupg2 apt-transport-https curl -y\n",
        "\n",
        "# Install PostgresSQL\n",
        "!curl -fSsL https://www.postgresql.org/media/keys/ACCC4CF8.asc | gpg --dearmor | sudo tee /usr/share/keyrings/postgresql.gpg > /dev/null\n",
        "!echo 'deb [arch=amd64,arm64,ppc64el signed-by=/usr/share/keyrings/postgresql.gpg] http://apt.postgresql.org/pub/repos/apt/ jammy-pgdg main' | sudo tee /etc/apt/sources.list.d/pgdg.list\n",
        "!sudo apt update\n",
        "!sudo apt install postgresql-client-15 postgresql-15 -y\n",
        "!sudo service postgresql start\n",
        "\n",
        "# Create a new PostgreSQL database if it does not already exist\n",
        "!sudo -u postgres psql -tc \"SELECT 1 FROM pg_database WHERE datname = 'zincsight_pipeline_db';\" | grep -q 1 || sudo -u postgres psql -c \"CREATE DATABASE zincsight_pipeline_db;\"\n",
        "!sudo -u postgres psql -c \"GRANT ALL PRIVILEGES ON DATABASE zincsight_pipeline_db TO postgres;\"\n",
        "!sudo -u postgres psql -c \"ALTER USER postgres WITH PASSWORD 'postgres';\"\n",
        "\n",
        "# Clone the GitHub repository and change into the repo directory\n",
        "!git clone https://github.com/MECHTI1/ZincSight.git\n",
        "%cd ZincSight/\n",
        "\n",
        "# Add essential SQL tables to the established database\n",
        "!sudo -u postgres psql -d zincsight_pipeline_db -P pager=off -f \"src/setup_pg_db_with_tables/PostgreSQL_4_necessary_tables.sql\"\n",
        "\n",
        "# Run ZincSight\n",
        "import os\n",
        "print(\"Current Path:\", os.getcwd()) # Debugging: Print current working directory\n",
        "\n",
        "import sys\n",
        "sys.path.append('/content/ZincSight')\n",
        "from main_execute import execute_zincsight\n",
        "\n",
        "# Define paths explicitly\n",
        "query_structures_path = '/content/query_structures'  # Path to input structures\n",
        "output_path = '/content/output'  # Path to save output\n",
        "\n",
        "# Ensure paths exist\n",
        "if not os.path.exists(query_structures_path):\n",
        "    os.makedirs(query_structures_path)\n",
        "if not os.path.exists(output_path):\n",
        "    os.makedirs(output_path)  # Create output directory if it doesn't exist\n",
        "\n",
        "# Call the function with explicit paths\n",
        "output_compressed_file = execute_zincsight(\n",
        "    include_histidine_rotamers,       # Boolean flag\n",
        "    structure_ids_for_download,       # String of structure IDs\n",
        "    query_structures_path,  # Input directory path\n",
        "    output_path             # Output directory path\n",
        ")"
      ],
      "id": "81bfad90129eca3e"
    },
    {
      "metadata": {
        "id": "a97204b9e2e26209"
      },
      "cell_type": "code",
      "outputs": [],
      "execution_count": null,
      "source": [
        "#@title Download Result{display-mode: \"form\"}\n",
        "if output_compressed_file!= False:\n",
        "    from google.colab import files\n",
        "    files.download(output_compressed_file)\n",
        "else: print (\"No predicted zinc-binding sites within the given query structures!\")"
      ],
      "id": "a97204b9e2e26209"
    }
  ],
  "metadata": {
    "kernelspec": {
      "display_name": "Python 3 (ipykernel)",
      "language": "python",
      "name": "python3"
    },
    "language_info": {
      "codemirror_mode": {
        "name": "ipython",
        "version": 3
      },
      "file_extension": ".py",
      "mimetype": "text/x-python",
      "name": "python",
      "nbconvert_exporter": "python",
      "pygments_lexer": "ipython3",
      "version": "3.11.10"
    },
    "colab": {
      "provenance": []
    }
  },
  "nbformat": 4,
  "nbformat_minor": 5
}
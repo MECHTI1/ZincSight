{
  "cells": [
    {
      "cell_type": "markdown",
      "source": [
        "# **ZincSight**: A rapid and precise tool for large-scale zinc ion location prediction in proteins\n",
        "\n",
        "If the runtime crashes during ZincSight execution, click `Runtime` → `Disconnect and delete runtime` and then start over. If the issue presists, contact mechtinger1@mail.tau.ac.il and include the protein IDs/structures that you used.\n",
        "\n",
        "\n",
        "\n",
        "\n"
      ],
      "metadata": {
        "id": "L_ze0RWySmz_"
      },
      "id": "L_ze0RWySmz_"
    },
    {
      "metadata": {
        "id": "665c45b2c9dba528"
      },
      "cell_type": "code",
      "outputs": [],
      "execution_count": null,
      "source": [
        "#@title Click '▶' for Initialization {display-mode: \"form\"}\n",
        "!pip install -q condacolab\n",
        "import condacolab\n",
        "condacolab.install()"
      ],
      "id": "665c45b2c9dba528"
    },
    {
      "metadata": {
        "id": "3862730ee101cb79"
      },
      "cell_type": "code",
      "outputs": [],
      "execution_count": null,
      "source": [
        "#@title Query for ZincSight {display-mode: \"form\"}\n",
        "#@markdown  Enter your protein(s) in the field below or upload PDB or MMCIF structures. Then hit `Runtime` → `Run all`.\n",
        "# @markdown - Query IDs can be PDB, UniProt, AlphaFold, or ESM identifiers, for example: `8QEP, P0A6G5, AF-A0A068N621-F1-v4, MGYP002718891411`.\n",
        "# @markdown -Alternatively, leave the field empty in order to upload your own structure files.\n",
        "#@markdown  <p></p>\n",
        "#@markdown  <p></p>\n",
        "structure_ids_for_download = '8QEP, P0A6G5, AF-A0A068N621-F1-v4, MGYP002718891411' # @param {type:\"string\"}\n",
        "\n",
        "\n",
        "upload_structures = False\n",
        "\n",
        "include_histidine_rotamers = True # @param {type: \"boolean\"}\n",
        "# If you do not want to include rotamer predictions, uncheck it.\n",
        "\n",
        "\n",
        "if structure_ids_for_download.strip() == '':\n",
        "  !mkdir -p /content/query_structures\n",
        "  %cd /content/query_structures\n",
        "  from google.colab import files\n",
        "  uploaded = files.upload()\n",
        "  %cd /content"
      ],
      "id": "3862730ee101cb79"
    },
    {
      "metadata": {
        "id": "81bfad90129eca3e"
      },
      "cell_type": "code",
      "outputs": [],
      "execution_count": null,
      "source": [
        "%%capture captured_output\n",
        "#@title Excute ZincSight {display-mode: \"form\"}\n",
        "!pip install biopython==1.79\n",
        "!conda install pymol-open-source=3.0.0 scipy matplotlib psycopg2-binary scikit-learn python-dotenv joblib aria2p -c conda-forge\n",
        "\n",
        "!sudo apt install pigz\n",
        "\n",
        "# Install Essential System Packages and GPG Tools\n",
        "!sudo apt install dirmngr ca-certificates software-properties-common gnupg gnupg2 apt-transport-https curl -y\n",
        "\n",
        "# Install PostgresSQL\n",
        "!curl -fSsL https://www.postgresql.org/media/keys/ACCC4CF8.asc | gpg --dearmor | sudo tee /usr/share/keyrings/postgresql.gpg > /dev/null\n",
        "!echo 'deb [arch=amd64,arm64,ppc64el signed-by=/usr/share/keyrings/postgresql.gpg] http://apt.postgresql.org/pub/repos/apt/ jammy-pgdg main' | sudo tee /etc/apt/sources.list.d/pgdg.list\n",
        "!sudo apt update\n",
        "!sudo apt install postgresql-client-15 postgresql-15 -y\n",
        "!sudo service postgresql start\n",
        "\n",
        "# Create a new PostgreSQL database if it does not already exist\n",
        "!sudo -u postgres psql -tc \"SELECT 1 FROM pg_database WHERE datname = 'zincsight_pipeline_db';\" | grep -q 1 || sudo -u postgres psql -c \"CREATE DATABASE zincsight_pipeline_db;\"\n",
        "!sudo -u postgres psql -c \"GRANT ALL PRIVILEGES ON DATABASE zincsight_pipeline_db TO postgres;\"\n",
        "!sudo -u postgres psql -c \"ALTER USER postgres WITH PASSWORD 'postgres';\"\n",
        "\n",
        "# Clone the GitHub repository and change into the repo directory\n",
        "!git clone https://github.com/MECHTI1/ZincSight.git\n",
        "%cd ZincSight/\n",
        "\n",
        "# Add essential SQL tables to the established database\n",
        "!sudo -u postgres psql -d zincsight_pipeline_db -P pager=off -f \"src/setup_pg_db_with_tables/PostgreSQL_4_necessary_tables.sql\"\n",
        "\n",
        "\n",
        "import os\n",
        "print(\"Current Path:\", os.getcwd()) # Debugging: Print current working directory\n",
        "\n",
        "import sys\n",
        "sys.path.append('/content/ZincSight')\n",
        "from main_execute import execute_zincsight\n",
        "\n",
        "# Define paths explicitly\n",
        "query_structures_path = '/content/query_structures'  # Path to input structures\n",
        "output_path = '/content/output'  # Path to save output\n",
        "\n",
        "# Ensure paths exist\n",
        "if not os.path.exists(query_structures_path):\n",
        "    os.makedirs(query_structures_path)\n",
        "if not os.path.exists(output_path):\n",
        "    os.makedirs(output_path)  # Create output directory if it doesn't exist\n",
        "\n",
        "# Call the function with explicit paths\n",
        "output_compressed_file = execute_zincsight(\n",
        "    include_rotamers,       # Boolean flag\n",
        "    structure_ids_for_download,          # String of structure IDs\n",
        "    query_structures_path,  # Input directory path\n",
        "    output_path             # Output directory path\n",
        ")"
      ],
      "id": "81bfad90129eca3e"
    },
    {
      "metadata": {
        "id": "a97204b9e2e26209"
      },
      "cell_type": "code",
      "outputs": [],
      "execution_count": null,
      "source": [
        "#@title Download Result{display-mode: \"form\"}\n",
        "from google.colab import files\n",
        "files.download(output_compressed_file)"
      ],
      "id": "a97204b9e2e26209"
    }
  ],
  "metadata": {
    "kernelspec": {
      "display_name": "Python 3 (ipykernel)",
      "language": "python",
      "name": "python3"
    },
    "language_info": {
      "codemirror_mode": {
        "name": "ipython",
        "version": 3
      },
      "file_extension": ".py",
      "mimetype": "text/x-python",
      "name": "python",
      "nbconvert_exporter": "python",
      "pygments_lexer": "ipython3",
      "version": "3.11.10"
    },
    "colab": {
      "provenance": []
    }
  },
  "nbformat": 4,
  "nbformat_minor": 5
}